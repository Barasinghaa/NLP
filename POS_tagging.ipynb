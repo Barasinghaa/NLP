{
  "nbformat": 4,
  "nbformat_minor": 0,
  "metadata": {
    "colab": {
      "provenance": [],
      "authorship_tag": "ABX9TyO7reCVbTKdyx+eZCyZLz/U",
      "include_colab_link": true
    },
    "kernelspec": {
      "name": "python3",
      "display_name": "Python 3"
    },
    "language_info": {
      "name": "python"
    }
  },
  "cells": [
    {
      "cell_type": "markdown",
      "metadata": {
        "id": "view-in-github",
        "colab_type": "text"
      },
      "source": [
        "<a href=\"https://colab.research.google.com/github/Barasinghaa/NLP/blob/main/POS_tagging.ipynb\" target=\"_parent\"><img src=\"https://colab.research.google.com/assets/colab-badge.svg\" alt=\"Open In Colab\"/></a>"
      ]
    },
    {
      "cell_type": "code",
      "execution_count": 1,
      "metadata": {
        "id": "hG26N8nn6WPy"
      },
      "outputs": [],
      "source": [
        "import spacy"
      ]
    },
    {
      "cell_type": "code",
      "source": [
        "nlp = spacy.load(\"en_core_web_sm\")\n",
        "doc = nlp(\"Elon flew to mars yesterday. He carried biryani masala with him\")\n",
        "\n",
        "for token in doc:\n",
        "    print(token,\" | \", token.pos_, \" | \", spacy.explain(token.pos_))"
      ],
      "metadata": {
        "colab": {
          "base_uri": "https://localhost:8080/"
        },
        "id": "qVeJu2i-6uh7",
        "outputId": "66d50a04-a6a4-412e-eeae-51ab8a5997ee"
      },
      "execution_count": 2,
      "outputs": [
        {
          "output_type": "stream",
          "name": "stdout",
          "text": [
            "Elon  |  PROPN  |  proper noun\n",
            "flew  |  VERB  |  verb\n",
            "to  |  ADP  |  adposition\n",
            "mars  |  NOUN  |  noun\n",
            "yesterday  |  NOUN  |  noun\n",
            ".  |  PUNCT  |  punctuation\n",
            "He  |  PRON  |  pronoun\n",
            "carried  |  VERB  |  verb\n",
            "biryani  |  ADJ  |  adjective\n",
            "masala  |  NOUN  |  noun\n",
            "with  |  ADP  |  adposition\n",
            "him  |  PRON  |  pronoun\n"
          ]
        }
      ]
    },
    {
      "cell_type": "code",
      "source": [
        "nlp.pipe_names"
      ],
      "metadata": {
        "colab": {
          "base_uri": "https://localhost:8080/"
        },
        "id": "epMMWtdb63gf",
        "outputId": "0827d01c-84df-46ac-a931-de0423517fc2"
      },
      "execution_count": 4,
      "outputs": [
        {
          "output_type": "execute_result",
          "data": {
            "text/plain": [
              "['tok2vec', 'tagger', 'parser', 'attribute_ruler', 'lemmatizer', 'ner']"
            ]
          },
          "metadata": {},
          "execution_count": 4
        }
      ]
    },
    {
      "cell_type": "code",
      "source": [
        "doc = nlp(\"Wow! Dr. Strange made 265 million $ on the very first day\")\n",
        "\n",
        "for token in doc:\n",
        "  print(token,\"  |  \",token.tag_,\"  |  \",spacy.explain(token.tag_))"
      ],
      "metadata": {
        "colab": {
          "base_uri": "https://localhost:8080/"
        },
        "id": "aPFmAoEy7WGE",
        "outputId": "5e7e9772-91c0-4f53-8016-f63d51f034c5"
      },
      "execution_count": 6,
      "outputs": [
        {
          "output_type": "stream",
          "name": "stdout",
          "text": [
            "Wow   |   UH   |   interjection\n",
            "!   |   .   |   punctuation mark, sentence closer\n",
            "Dr.   |   NNP   |   noun, proper singular\n",
            "Strange   |   NNP   |   noun, proper singular\n",
            "made   |   VBD   |   verb, past tense\n",
            "265   |   CD   |   cardinal number\n",
            "million   |   CD   |   cardinal number\n",
            "$   |   CD   |   cardinal number\n",
            "on   |   IN   |   conjunction, subordinating or preposition\n",
            "the   |   DT   |   determiner\n",
            "very   |   RB   |   adverb\n",
            "first   |   JJ   |   adjective (English), other noun-modifier (Chinese)\n",
            "day   |   NN   |   noun, singular or mass\n"
          ]
        }
      ]
    },
    {
      "cell_type": "code",
      "source": [
        "doc = nlp(\"He quits the job\")\n",
        "\n",
        "print(doc[1].text, \"|\", doc[1].tag_, \"|\", spacy.explain(doc[1].tag_))"
      ],
      "metadata": {
        "colab": {
          "base_uri": "https://localhost:8080/"
        },
        "id": "jfhGMj2n70N7",
        "outputId": "e75ec22f-a048-4d27-d8b4-0ec76fdbfbc7"
      },
      "execution_count": 7,
      "outputs": [
        {
          "output_type": "stream",
          "name": "stdout",
          "text": [
            "quits | VBZ | verb, 3rd person singular present\n"
          ]
        }
      ]
    },
    {
      "cell_type": "code",
      "source": [
        "doc = nlp(\"He quit the job\")\n",
        "\n",
        "print(doc[1].text, \"|\", doc[1].tag_, \"|\", spacy.explain(doc[1].tag_))"
      ],
      "metadata": {
        "colab": {
          "base_uri": "https://localhost:8080/"
        },
        "id": "IJwbloLJ8dqu",
        "outputId": "6f4cbe7a-02cf-4c5f-8fd4-93d17a188382"
      },
      "execution_count": 8,
      "outputs": [
        {
          "output_type": "stream",
          "name": "stdout",
          "text": [
            "quit | VBD | verb, past tense\n"
          ]
        }
      ]
    },
    {
      "cell_type": "code",
      "source": [
        "earnings_text=\"\"\"Microsoft Corp. today announced the following results for the quarter ended December 31, 2021, as compared to the corresponding period of last fiscal year:\n",
        "\n",
        "·         Revenue was $51.7 billion and increased 20%\n",
        "·         Operating income was $22.2 billion and increased 24%\n",
        "·         Net income was $18.8 billion and increased 21%\n",
        "·         Diluted earnings per share was $2.48 and increased 22%\n",
        "“Digital technology is the most malleable resource at the world’s disposal to overcome constraints and reimagine everyday work and life,” said Satya Nadella, chairman and chief executive officer of Microsoft. “As tech as a percentage of global GDP continues to increase, we are innovating and investing across diverse and growing markets, with a common underlying technology stack and an operating model that reinforces a common strategy, culture, and sense of purpose.”\n",
        "“Solid commercial execution, represented by strong bookings growth driven by long-term Azure commitments, increased Microsoft Cloud revenue to $22.1 billion, up 32% year over year” said Amy Hood, executive vice president and chief financial officer of Microsoft.\"\"\"\n",
        "\n",
        "doc = nlp(earnings_text)"
      ],
      "metadata": {
        "id": "TBl3BRUI8flH"
      },
      "execution_count": 9,
      "outputs": []
    },
    {
      "cell_type": "code",
      "source": [
        "for token in doc:\n",
        "  print(token,\"  |  \",token.pos_,\"  |  \",spacy.explain(token.pos_))"
      ],
      "metadata": {
        "colab": {
          "base_uri": "https://localhost:8080/"
        },
        "id": "9NVUQZnv9BgM",
        "outputId": "9543b96b-80ed-4dc3-b5bc-7f42bf25bf7e"
      },
      "execution_count": 11,
      "outputs": [
        {
          "output_type": "stream",
          "name": "stdout",
          "text": [
            "Microsoft   |   PROPN   |   proper noun\n",
            "Corp.   |   PROPN   |   proper noun\n",
            "today   |   NOUN   |   noun\n",
            "announced   |   VERB   |   verb\n",
            "the   |   DET   |   determiner\n",
            "following   |   VERB   |   verb\n",
            "results   |   NOUN   |   noun\n",
            "for   |   ADP   |   adposition\n",
            "the   |   DET   |   determiner\n",
            "quarter   |   NOUN   |   noun\n",
            "ended   |   VERB   |   verb\n",
            "December   |   PROPN   |   proper noun\n",
            "31   |   NUM   |   numeral\n",
            ",   |   PUNCT   |   punctuation\n",
            "2021   |   NUM   |   numeral\n",
            ",   |   PUNCT   |   punctuation\n",
            "as   |   SCONJ   |   subordinating conjunction\n",
            "compared   |   VERB   |   verb\n",
            "to   |   ADP   |   adposition\n",
            "the   |   DET   |   determiner\n",
            "corresponding   |   ADJ   |   adjective\n",
            "period   |   NOUN   |   noun\n",
            "of   |   ADP   |   adposition\n",
            "last   |   ADJ   |   adjective\n",
            "fiscal   |   ADJ   |   adjective\n",
            "year   |   NOUN   |   noun\n",
            ":   |   PUNCT   |   punctuation\n",
            "\n",
            "\n",
            "   |   SPACE   |   space\n",
            "·   |   PUNCT   |   punctuation\n",
            "           |   SPACE   |   space\n",
            "Revenue   |   NOUN   |   noun\n",
            "was   |   AUX   |   auxiliary\n",
            "$   |   SYM   |   symbol\n",
            "51.7   |   NUM   |   numeral\n",
            "billion   |   NUM   |   numeral\n",
            "and   |   CCONJ   |   coordinating conjunction\n",
            "increased   |   VERB   |   verb\n",
            "20   |   NUM   |   numeral\n",
            "%   |   NOUN   |   noun\n",
            "\n",
            "   |   SPACE   |   space\n",
            "·   |   PUNCT   |   punctuation\n",
            "           |   SPACE   |   space\n",
            "Operating   |   VERB   |   verb\n",
            "income   |   NOUN   |   noun\n",
            "was   |   AUX   |   auxiliary\n",
            "$   |   SYM   |   symbol\n",
            "22.2   |   NUM   |   numeral\n",
            "billion   |   NUM   |   numeral\n",
            "and   |   CCONJ   |   coordinating conjunction\n",
            "increased   |   VERB   |   verb\n",
            "24   |   NUM   |   numeral\n",
            "%   |   NOUN   |   noun\n",
            "\n",
            "   |   SPACE   |   space\n",
            "·   |   PUNCT   |   punctuation\n",
            "           |   SPACE   |   space\n",
            "Net   |   ADJ   |   adjective\n",
            "income   |   NOUN   |   noun\n",
            "was   |   AUX   |   auxiliary\n",
            "$   |   SYM   |   symbol\n",
            "18.8   |   NUM   |   numeral\n",
            "billion   |   NUM   |   numeral\n",
            "and   |   CCONJ   |   coordinating conjunction\n",
            "increased   |   VERB   |   verb\n",
            "21   |   NUM   |   numeral\n",
            "%   |   NOUN   |   noun\n",
            "\n",
            "   |   SPACE   |   space\n",
            "·   |   PUNCT   |   punctuation\n",
            "           |   SPACE   |   space\n",
            "Diluted   |   VERB   |   verb\n",
            "earnings   |   NOUN   |   noun\n",
            "per   |   ADP   |   adposition\n",
            "share   |   NOUN   |   noun\n",
            "was   |   AUX   |   auxiliary\n",
            "$   |   SYM   |   symbol\n",
            "2.48   |   NUM   |   numeral\n",
            "and   |   CCONJ   |   coordinating conjunction\n",
            "increased   |   VERB   |   verb\n",
            "22   |   NUM   |   numeral\n",
            "%   |   NOUN   |   noun\n",
            "\n",
            "   |   SPACE   |   space\n",
            "“   |   PUNCT   |   punctuation\n",
            "Digital   |   PROPN   |   proper noun\n",
            "technology   |   NOUN   |   noun\n",
            "is   |   AUX   |   auxiliary\n",
            "the   |   DET   |   determiner\n",
            "most   |   ADV   |   adverb\n",
            "malleable   |   ADJ   |   adjective\n",
            "resource   |   NOUN   |   noun\n",
            "at   |   ADP   |   adposition\n",
            "the   |   DET   |   determiner\n",
            "world   |   NOUN   |   noun\n",
            "’s   |   PART   |   particle\n",
            "disposal   |   NOUN   |   noun\n",
            "to   |   PART   |   particle\n",
            "overcome   |   VERB   |   verb\n",
            "constraints   |   NOUN   |   noun\n",
            "and   |   CCONJ   |   coordinating conjunction\n",
            "reimagine   |   VERB   |   verb\n",
            "everyday   |   ADJ   |   adjective\n",
            "work   |   NOUN   |   noun\n",
            "and   |   CCONJ   |   coordinating conjunction\n",
            "life   |   NOUN   |   noun\n",
            ",   |   PUNCT   |   punctuation\n",
            "”   |   PUNCT   |   punctuation\n",
            "said   |   VERB   |   verb\n",
            "Satya   |   PROPN   |   proper noun\n",
            "Nadella   |   PROPN   |   proper noun\n",
            ",   |   PUNCT   |   punctuation\n",
            "chairman   |   NOUN   |   noun\n",
            "and   |   CCONJ   |   coordinating conjunction\n",
            "chief   |   ADJ   |   adjective\n",
            "executive   |   ADJ   |   adjective\n",
            "officer   |   NOUN   |   noun\n",
            "of   |   ADP   |   adposition\n",
            "Microsoft   |   PROPN   |   proper noun\n",
            ".   |   PUNCT   |   punctuation\n",
            "“   |   PUNCT   |   punctuation\n",
            "As   |   ADV   |   adverb\n",
            "tech   |   NOUN   |   noun\n",
            "as   |   ADP   |   adposition\n",
            "a   |   DET   |   determiner\n",
            "percentage   |   NOUN   |   noun\n",
            "of   |   ADP   |   adposition\n",
            "global   |   ADJ   |   adjective\n",
            "GDP   |   PROPN   |   proper noun\n",
            "continues   |   VERB   |   verb\n",
            "to   |   PART   |   particle\n",
            "increase   |   VERB   |   verb\n",
            ",   |   PUNCT   |   punctuation\n",
            "we   |   PRON   |   pronoun\n",
            "are   |   AUX   |   auxiliary\n",
            "innovating   |   VERB   |   verb\n",
            "and   |   CCONJ   |   coordinating conjunction\n",
            "investing   |   VERB   |   verb\n",
            "across   |   ADP   |   adposition\n",
            "diverse   |   ADJ   |   adjective\n",
            "and   |   CCONJ   |   coordinating conjunction\n",
            "growing   |   VERB   |   verb\n",
            "markets   |   NOUN   |   noun\n",
            ",   |   PUNCT   |   punctuation\n",
            "with   |   ADP   |   adposition\n",
            "a   |   DET   |   determiner\n",
            "common   |   ADJ   |   adjective\n",
            "underlying   |   VERB   |   verb\n",
            "technology   |   NOUN   |   noun\n",
            "stack   |   NOUN   |   noun\n",
            "and   |   CCONJ   |   coordinating conjunction\n",
            "an   |   DET   |   determiner\n",
            "operating   |   NOUN   |   noun\n",
            "model   |   NOUN   |   noun\n",
            "that   |   PRON   |   pronoun\n",
            "reinforces   |   VERB   |   verb\n",
            "a   |   DET   |   determiner\n",
            "common   |   ADJ   |   adjective\n",
            "strategy   |   NOUN   |   noun\n",
            ",   |   PUNCT   |   punctuation\n",
            "culture   |   NOUN   |   noun\n",
            ",   |   PUNCT   |   punctuation\n",
            "and   |   CCONJ   |   coordinating conjunction\n",
            "sense   |   NOUN   |   noun\n",
            "of   |   ADP   |   adposition\n",
            "purpose   |   NOUN   |   noun\n",
            ".   |   PUNCT   |   punctuation\n",
            "”   |   PUNCT   |   punctuation\n",
            "\n",
            "   |   SPACE   |   space\n",
            "“   |   PUNCT   |   punctuation\n",
            "Solid   |   ADJ   |   adjective\n",
            "commercial   |   ADJ   |   adjective\n",
            "execution   |   NOUN   |   noun\n",
            ",   |   PUNCT   |   punctuation\n",
            "represented   |   VERB   |   verb\n",
            "by   |   ADP   |   adposition\n",
            "strong   |   ADJ   |   adjective\n",
            "bookings   |   NOUN   |   noun\n",
            "growth   |   NOUN   |   noun\n",
            "driven   |   VERB   |   verb\n",
            "by   |   ADP   |   adposition\n",
            "long   |   ADJ   |   adjective\n",
            "-   |   PUNCT   |   punctuation\n",
            "term   |   NOUN   |   noun\n",
            "Azure   |   ADJ   |   adjective\n",
            "commitments   |   NOUN   |   noun\n",
            ",   |   PUNCT   |   punctuation\n",
            "increased   |   VERB   |   verb\n",
            "Microsoft   |   PROPN   |   proper noun\n",
            "Cloud   |   PROPN   |   proper noun\n",
            "revenue   |   NOUN   |   noun\n",
            "to   |   ADP   |   adposition\n",
            "$   |   SYM   |   symbol\n",
            "22.1   |   NUM   |   numeral\n",
            "billion   |   NUM   |   numeral\n",
            ",   |   PUNCT   |   punctuation\n",
            "up   |   ADV   |   adverb\n",
            "32   |   NUM   |   numeral\n",
            "%   |   NOUN   |   noun\n",
            "year   |   NOUN   |   noun\n",
            "over   |   ADP   |   adposition\n",
            "year   |   NOUN   |   noun\n",
            "”   |   PUNCT   |   punctuation\n",
            "said   |   VERB   |   verb\n",
            "Amy   |   PROPN   |   proper noun\n",
            "Hood   |   PROPN   |   proper noun\n",
            ",   |   PUNCT   |   punctuation\n",
            "executive   |   ADJ   |   adjective\n",
            "vice   |   NOUN   |   noun\n",
            "president   |   NOUN   |   noun\n",
            "and   |   CCONJ   |   coordinating conjunction\n",
            "chief   |   ADJ   |   adjective\n",
            "financial   |   ADJ   |   adjective\n",
            "officer   |   NOUN   |   noun\n",
            "of   |   ADP   |   adposition\n",
            "Microsoft   |   PROPN   |   proper noun\n",
            ".   |   PUNCT   |   punctuation\n"
          ]
        }
      ]
    },
    {
      "cell_type": "code",
      "source": [
        "filtered_tokens = []\n",
        "\n",
        "for token in doc:\n",
        "    if token.pos_ not in [\"SPACE\", \"PUNCT\", \"X\"]:\n",
        "        filtered_tokens.append(token)"
      ],
      "metadata": {
        "id": "ZiDUd6579Lwz"
      },
      "execution_count": 13,
      "outputs": []
    },
    {
      "cell_type": "code",
      "source": [
        "doc.count_by(spacy.attrs.POS)"
      ],
      "metadata": {
        "colab": {
          "base_uri": "https://localhost:8080/"
        },
        "id": "WWChRv439zM1",
        "outputId": "66de936a-ed6d-46aa-e799-590426f39a07"
      },
      "execution_count": 14,
      "outputs": [
        {
          "output_type": "execute_result",
          "data": {
            "text/plain": [
              "{96: 13,\n",
              " 92: 46,\n",
              " 100: 24,\n",
              " 90: 9,\n",
              " 85: 16,\n",
              " 93: 16,\n",
              " 97: 27,\n",
              " 98: 1,\n",
              " 84: 20,\n",
              " 103: 10,\n",
              " 87: 6,\n",
              " 99: 5,\n",
              " 89: 12,\n",
              " 86: 3,\n",
              " 94: 3,\n",
              " 95: 2}"
            ]
          },
          "metadata": {},
          "execution_count": 14
        }
      ]
    },
    {
      "cell_type": "code",
      "source": [
        "doc.vocab[96].text"
      ],
      "metadata": {
        "colab": {
          "base_uri": "https://localhost:8080/",
          "height": 36
        },
        "id": "yckgTPl7-Ljk",
        "outputId": "74eef86a-ebc9-48df-d591-565f8d441bda"
      },
      "execution_count": 15,
      "outputs": [
        {
          "output_type": "execute_result",
          "data": {
            "text/plain": [
              "'PROPN'"
            ],
            "application/vnd.google.colaboratory.intrinsic+json": {
              "type": "string"
            }
          },
          "metadata": {},
          "execution_count": 15
        }
      ]
    },
    {
      "cell_type": "code",
      "source": [
        "for k,v in doc.count_by(spacy.attrs.POS).items():\n",
        "    print(doc.vocab[k].text, \"|\",v)"
      ],
      "metadata": {
        "colab": {
          "base_uri": "https://localhost:8080/"
        },
        "id": "e5_9W_uS-X05",
        "outputId": "3be9ed4f-3bc9-4038-ad00-149658cd6f0c"
      },
      "execution_count": 16,
      "outputs": [
        {
          "output_type": "stream",
          "name": "stdout",
          "text": [
            "PROPN | 13\n",
            "NOUN | 46\n",
            "VERB | 24\n",
            "DET | 9\n",
            "ADP | 16\n",
            "NUM | 16\n",
            "PUNCT | 27\n",
            "SCONJ | 1\n",
            "ADJ | 20\n",
            "SPACE | 10\n",
            "AUX | 6\n",
            "SYM | 5\n",
            "CCONJ | 12\n",
            "ADV | 3\n",
            "PART | 3\n",
            "PRON | 2\n"
          ]
        }
      ]
    },
    {
      "cell_type": "code",
      "source": [],
      "metadata": {
        "id": "BKaV69bI-uVb"
      },
      "execution_count": null,
      "outputs": []
    }
  ]
}